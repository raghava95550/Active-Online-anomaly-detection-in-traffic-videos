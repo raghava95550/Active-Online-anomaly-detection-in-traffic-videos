{
 "cells": [
  {
   "cell_type": "code",
   "execution_count": 1,
   "metadata": {},
   "outputs": [],
   "source": [
    "import csv\n",
    "import numpy as np\n",
    "from sklearn.metrics import confusion_matrix\n",
    "from sklearn.metrics import roc_curve\n",
    "from sklearn.metrics import roc_auc_score\n",
    "import matplotlib.pyplot as plt\n",
    "from numpy.linalg import inv\n",
    "from sklearn.gaussian_process.kernels import RBF\n",
    "from sklearn.metrics import accuracy_score\n",
    "from sklearn.gaussian_process import GaussianProcessClassifier"
   ]
  },
  {
   "cell_type": "code",
   "execution_count": 2,
   "metadata": {},
   "outputs": [],
   "source": [
    "class data_objects:\n",
    "    def __init__(self,clip_no,stime,etime,weights_data,label):\n",
    "        self.clip_no = clip_no\n",
    "        self.stime = stime\n",
    "        self.etime = etime\n",
    "        self.weights_data = weights_data\n",
    "        self.label = label"
   ]
  },
  {
   "cell_type": "code",
   "execution_count": null,
   "metadata": {},
   "outputs": [],
   "source": [
    "total_data_objects = []\n",
    "with open(\"E:\\\\Study\\\\Sem Project\\\\Data\\\\weights_zero_addition_data.csv\",'r') as file:\n",
    "    reader = csv.reader(file)\n",
    "    for row in reader:\n",
    "        #from csv file all items will be read as strings, so we have to convert to int if neccesary\n",
    "        total_data_objects.append(data_objects(row[0],row[1],row[2],np.asarray(list(map(float,row[4:]))),int(row[3])))"
   ]
  },
  {
   "cell_type": "code",
   "execution_count": null,
   "metadata": {},
   "outputs": [],
   "source": [
    "\"\"\"\n",
    "#printing objects value.\n",
    "print(\"total no of objects\",len(objects_array))\n",
    "for i in range(len(objects_array)):\n",
    "    print(\"clip no=\",objects_array[i].clip_no)\n",
    "    print(\"start time=\",objects_array[i].stime)\n",
    "    print(\"end time=\",objects_array[i].etime)\n",
    "    print(\"weights =\",objects_array[i].weights_data)\n",
    "    print(\"label = \",objects_array[i].label,\"\\n\")\"\"\""
   ]
  },
  {
   "cell_type": "code",
   "execution_count": null,
   "metadata": {},
   "outputs": [],
   "source": [
    "def plot_roc_curve(fpr, tpr):\n",
    "    plt.plot(fpr, tpr, color='orange', label='ROC')\n",
    "    plt.plot([0, 1], [0, 1], color='darkblue', linestyle='--')\n",
    "    plt.xlabel('False Positive Rate')\n",
    "    plt.ylabel('True Positive Rate')\n",
    "    plt.title('Receiver Operating Characteristic (ROC) Curve')\n",
    "    plt.legend()\n",
    "    plt.show()"
   ]
  },
  {
   "cell_type": "code",
   "execution_count": null,
   "metadata": {},
   "outputs": [],
   "source": [
    "\n",
    "\"\"\"#total_data_objects = objects_array.copy()\n",
    "print(len(total_data_objects))\n",
    "#pre processing\n",
    "max_len = len(total_data_objects[0].weights_data)\n",
    "next_max_len = max_len\n",
    "max_len_index = 0\n",
    "for i in range(len(total_data_objects)):\n",
    "    if max_len < len(total_data_objects[i].weights_data):\n",
    "        next_max_len = max_len\n",
    "        max_len = len(total_data_objects[i].weights_data)\n",
    "        max_len_index = i\n",
    "new_objects = []\n",
    "for i in range(len(total_data_objects)):\n",
    "    if i!= max_len_index:\n",
    "        new_objects.append(total_data_objects[i])\n",
    "\n",
    "total_data_objects.clear()\n",
    "total_data_objects = new_objects\n",
    "\n",
    "for i in range(len(total_data_objects)):\n",
    "    for j in range(next_max_len - len(total_data_objects[i].weights_data)):\n",
    "        total_data_objects[i].weights_data = np.append(total_data_objects[i].weights_data,np.mean(total_data_objects[i].weights_data))\n",
    "    print(total_data_objects[i].weights_data)\n",
    "    \"\"\""
   ]
  },
  {
   "cell_type": "code",
   "execution_count": null,
   "metadata": {},
   "outputs": [],
   "source": [
    "\"\"\"\n",
    "max_len = len(total_data_objects[0].weights_data)\n",
    "for i in range(len(total_data_objects)):\n",
    "    if max_len < len(total_data_objects[i].weights_data):\n",
    "        max_len = len(total_data_objects[i].weights_data)\n",
    "        \n",
    "for i in range(len(total_data_objects)):\n",
    "    for j in range(max_len - len(total_data_objects[i].weights_data)):\n",
    "        total_data_objects[i].weights_data = np.append(total_data_objects[i].weights_data,np.mean(total_data_objects[i].weights_data))\n",
    "        \"\"\""
   ]
  },
  {
   "cell_type": "code",
   "execution_count": null,
   "metadata": {},
   "outputs": [],
   "source": [
    "\"\"\"\n",
    "# normalizing weights.\n",
    "for i in range(len(total_data_objects)):\n",
    "    sum = np.sum(total_data_objects[i].weights_data)\n",
    "    for j in range(len(total_data_objects[i].weights_data)):\n",
    "        total_data_objects[i].weights_data[j] = total_data_objects[i].weights_data[j] / sum\n",
    "    total_data_objects[i].weights_data = np.asarray(total_data_objects[i].weights_data)\n",
    "    \"\"\""
   ]
  },
  {
   "cell_type": "code",
   "execution_count": null,
   "metadata": {},
   "outputs": [],
   "source": [
    "#dividing the total dataset into 60% training and 40% test\n",
    "total_no = len(total_data_objects)\n",
    "print(\"total objects=\",total_no)\n",
    "train_no=round(0.6*total_no)\n",
    "print(\"train objects=\",train_no)\n",
    "test_no=round(0.4*total_no)\n",
    "print(\"test objects=\",test_no)\n",
    "\n",
    "X_train=[]\n",
    "X_test=[]\n",
    "Y_train=[]\n",
    "Y_test=[]\n",
    "\n",
    "np.random.shuffle(total_data_objects)\n",
    "for i in range(train_no):\n",
    "    X_train.append(total_data_objects[i].weights_data.tolist())\n",
    "    Y_train.append(total_data_objects[i].label)\n",
    "for i in range(train_no,total_no):\n",
    "    X_test.append(total_data_objects[i].weights_data)\n",
    "    Y_test.append(total_data_objects[i].label)\n",
    "\n",
    "X_test=np.array(X_test)\n",
    "#X_train=np.array(X_train)\n",
    "#print(\"X_test\",X_test)\n",
    "#print(\"x_trin shape\",X_train.shape)\n",
    "#print(\"X_train\",X_train[0].shape)    \n",
    "\n",
    "Y_test=np.asarray(Y_test)\n",
    "Y_train=np.asarray(Y_train)\n",
    "Y_test=Y_test\n",
    "Y_train=Y_train\n",
    "#Y_test=Y_test.reshape(-1,1)\n",
    "#Y_train=Y_train.reshape(-1,1)\n",
    "#print(len(Y_train))\n",
    "#print(Y_train[1:20,:])"
   ]
  },
  {
   "cell_type": "code",
   "execution_count": null,
   "metadata": {},
   "outputs": [],
   "source": [
    "#print(\"shape \",X_train.shape)\n",
    "#X_train = np.array(X_train)\n",
    "kernel = 1.0*RBF(1.0)\n",
    "gpc = GaussianProcessClassifier(kernel=kernel,random_state=0).fit(X_train,Y_train)\n",
    "#gpc.score(X_train,Y_train)\n",
    "pred_labels=gpc.predict(X_test)\n",
    "print(\"labels predicted\",len(pred_labels))\n",
    "print(Y_test.reshape(1,-1))\n",
    "print(pred_labels)"
   ]
  },
  {
   "cell_type": "code",
   "execution_count": null,
   "metadata": {},
   "outputs": [],
   "source": [
    "#performance\n",
    "print(\"accuracy =\",accuracy_score(pred_labels,Y_test)*100)"
   ]
  },
  {
   "cell_type": "code",
   "execution_count": null,
   "metadata": {},
   "outputs": [],
   "source": [
    "cm = confusion_matrix(pred_labels,Y_test)\n",
    "print(cm)"
   ]
  },
  {
   "cell_type": "code",
   "execution_count": null,
   "metadata": {},
   "outputs": [],
   "source": [
    "auc = roc_auc_score(Y_test,pred_labels)\n",
    "print('AUC: %.2f' % auc)\n",
    "fpr, tpr, thresholds = roc_curve(Y_test,pred_labels)\n",
    "plot_roc_curve(fpr, tpr)"
   ]
  },
  {
   "cell_type": "code",
   "execution_count": null,
   "metadata": {},
   "outputs": [],
   "source": [
    "print(gpc.get_params)"
   ]
  },
  {
   "cell_type": "code",
   "execution_count": null,
   "metadata": {},
   "outputs": [],
   "source": []
  }
 ],
 "metadata": {
  "kernelspec": {
   "display_name": "Python 3",
   "language": "python",
   "name": "python3"
  },
  "language_info": {
   "codemirror_mode": {
    "name": "ipython",
    "version": 3
   },
   "file_extension": ".py",
   "mimetype": "text/x-python",
   "name": "python",
   "nbconvert_exporter": "python",
   "pygments_lexer": "ipython3",
   "version": "3.7.0"
  }
 },
 "nbformat": 4,
 "nbformat_minor": 2
}
